{
 "cells": [
  {
   "cell_type": "code",
   "execution_count": 1,
   "id": "c9dcd43e",
   "metadata": {},
   "outputs": [
    {
     "name": "stdout",
     "output_type": "stream",
     "text": [
      "Solution of Example 1 :  [0, 1]\n",
      "Solution of Example 2 :  [1, 2]\n",
      "Solution of Example 3 :  [0, 1]\n"
     ]
    }
   ],
   "source": [
    "#1\n",
    "def twoSum(nums, target):\n",
    "        seen = {}\n",
    "        for i, v in enumerate(nums):\n",
    "            remaining = target - v\n",
    "            if remaining in seen:\n",
    "                return [seen[remaining], i]\n",
    "            seen[v] = i\n",
    "        return []\n",
    "\n",
    "example1 = twoSum(nums = [2,7,11,15],target = 9)\n",
    "example2 = twoSum(nums = [3,2,4],target = 6)\n",
    "example3 = twoSum(nums = [3,3],target = 6)\n",
    "print(\"Solution of Example 1 : \",example1)\n",
    "print(\"Solution of Example 2 : \",example2)\n",
    "print(\"Solution of Example 3 : \",example3)"
   ]
  },
  {
   "cell_type": "code",
   "execution_count": null,
   "id": "64189b23",
   "metadata": {},
   "outputs": [],
   "source": [
    "\n",
    "## 2\n",
    "\n",
    "n = int(input())\n",
    "students = []\n",
    "for _ in range(n):\n",
    "    st = input()\n",
    "    grade = float(input())\n",
    "    students.append([st, grade])\n",
    "students = sorted(students, key=lambda x: x[1])\n",
    "twoMin = 0\n",
    "minGrade = students[0][1]\n",
    "namelist = []\n",
    "for i, (name, grade) in enumerate(students[1:]):\n",
    "        if grade == minGrade:\n",
    "            continue\n",
    "        if not twoMin:\n",
    "            twoMin = grade\n",
    "            namelist.append(name)\n",
    "            continue\n",
    "        if grade == twoMin:\n",
    "            namelist.append(name)\n",
    "        else:\n",
    "            break\n",
    "namelist.sort()\n",
    "for name in namelist:\n",
    "    print(name)"
   ]
  }
 ],
 "metadata": {
  "kernelspec": {
   "display_name": "Python 3 (ipykernel)",
   "language": "python",
   "name": "python3"
  },
  "language_info": {
   "codemirror_mode": {
    "name": "ipython",
    "version": 3
   },
   "file_extension": ".py",
   "mimetype": "text/x-python",
   "name": "python",
   "nbconvert_exporter": "python",
   "pygments_lexer": "ipython3",
   "version": "3.8.8"
  }
 },
 "nbformat": 4,
 "nbformat_minor": 5
}
